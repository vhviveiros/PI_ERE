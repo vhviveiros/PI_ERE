{
 "nbformat": 4,
 "nbformat_minor": 0,
 "metadata": {
  "colab": {
   "name": "PI - Tarefa 5 (Quarta Semana (ERE)).ipynb",
   "provenance": []
  },
  "kernelspec": {
   "name": "pi_ere",
   "language": "python",
   "display_name": "PI_ERE"
  }
 },
 "cells": [
  {
   "cell_type": "markdown",
   "metadata": {
    "id": "gYyTWRozGjI3"
   },
   "source": [
    "# Instruções\n",
    "\n",
    "1. Resolva todos os exercícios abaixo.\n",
    "2. Salve uma cópia desse notebook em um repositório no GitHub.\n",
    "3. Envie o link do repositório criado para o professor.\n",
    "4. Envie um áudio curto ao professor explicando cada solução criada por você."
   ]
  },
  {
   "cell_type": "markdown",
   "metadata": {
    "id": "F5fEkbjlGlHr"
   },
   "source": [
    "#1. Limiarização de Imagens\n",
    "\n",
    "Nos vídeos abaixo, eu discuto o tema de limiarização de imagens.\n",
    "\n",
    "<a href=\"https://www.youtube.com/watch?v=P2R7Nn1_VwQ\"><img src=\"https://img.youtube.com/vi/P2R7Nn1_VwQ/mqdefault.jpg\"/></a>\n",
    "\n",
    "<a href=\"https://www.youtube.com/watch?v=onI2lQ0V0pc\"><img src=\"https://img.youtube.com/vi/onI2lQ0V0pc/mqdefault.jpg\"/></a>\n",
    "\n",
    "Nesse exercício, quero que você construa um limiarizador com um trackbar (barra) que permite ajuste dinâmico do limiar. Considere o vídeo abaixo para saber como construir.\n",
    "\n",
    "<a href=\"https://www.youtube.com/watch?v=OTiy8knQjJs\"><img src=\"https://img.youtube.com/vi/OTiy8knQjJs/mqdefault.jpg\"/></a>"
   ]
  },
  {
   "cell_type": "code",
   "metadata": {
    "id": "4lAyHJkjGfC2"
   },
   "source": [
    "#insira seu código aqui\n",
    "import ex_1"
   ],
   "execution_count": null,
   "outputs": []
  },
  {
   "cell_type": "markdown",
   "metadata": {
    "id": "3QGT8pephLEy"
   },
   "source": [
    "#2. Filtragem\n",
    "\n",
    "Considere os seguintes filtros:\n",
    "\n",
    "*   Filtro da Média\n",
    "*   Filtro Gaussiano\n",
    "*   Filtro da Mediana\n",
    "*   Filtro Sobel\n",
    "*   Filtro Laplaciano\n",
    "\n",
    "Crie uma função que receba uma imagem e o nome do filtro. Essa função deve retornar a imagem com o filtro aplicado. \n",
    "\n",
    "A seguir, apresente todas as imagens com os filtros aplicados em um grid. Use os subplots conforme apresentados no vídeo abaixo:\n",
    "<a href=\"https://www.youtube.com/watch?v=U35qns3LvvI\"><img src=\"https://img.youtube.com/vi/U35qns3LvvI/mqdefault.jpg\"/></a>\n",
    "\n",
    "Explique com suas palavras no áudio qual foi o efeito e quando cada filtro deve ser aplicado.\n",
    "\n",
    "Referências:\n",
    "<a href=\"https://opencv-python-tutroals.readthedocs.io/en/latest/py_tutorials/py_imgproc/py_filtering/py_filtering.html\">Link 1</a> e <a href=\"https://opencv-python-tutroals.readthedocs.io/en/latest/py_tutorials/py_imgproc/py_gradients/py_gradients.html\">Link 2</a>."
   ]
  },
  {
   "cell_type": "code",
   "metadata": {
    "id": "WsJNcP0fq-Jq"
   },
   "source": [
    "#Insira seu código aqui"
   ],
   "execution_count": null,
   "outputs": []
  },
  {
   "cell_type": "markdown",
   "metadata": {
    "id": "sqiUUgR2q_ow"
   },
   "source": [
    "#3. Recapitulação\n",
    "\n",
    "Acesse o SIGAA e no fórum \"Recapitulação do Primeiro Mês\", responda as seguintes perguntas com suas palavras:\n",
    "\n",
    "* O que é o Processamento de Imagens?\n",
    "* O que são modelos de cor (exemplo: RGB, HSV) e para que servem?\n",
    "* Liste conhecimentos que você aprendeu até aqui e exemplo de uso dos mesmos.\n"
   ]
  }
 ]
}